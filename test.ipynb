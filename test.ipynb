{
 "cells": [
  {
   "cell_type": "markdown",
   "metadata": {},
   "source": [
    "## Understanding Run Decision Tree1 "
   ]
  },
  {
   "cell_type": "code",
   "execution_count": 1,
   "metadata": {},
   "outputs": [
    {
     "name": "stderr",
     "output_type": "stream",
     "text": [
      "/Library/Frameworks/Python.framework/Versions/3.13/lib/python3.13/site-packages/fuzzywuzzy/fuzz.py:11: UserWarning: Using slow pure-python SequenceMatcher. Install python-Levenshtein to remove this warning\n",
      "  warnings.warn('Using slow pure-python SequenceMatcher. Install python-Levenshtein to remove this warning')\n"
     ]
    }
   ],
   "source": [
    "# Import packages\n",
    "import shutil\n",
    "from pathlib import Path\n",
    "\n",
    "import pandas as pd\n",
    "\n",
    "from apply.apply_asset_level_hotspot import apply_deforestation_hotspots_assets\n",
    "from apply.apply_controversy import apply_controversy_filters\n",
    "from apply.apply_decision_tree1 import apply_dt1_conservative_approach, apply_dt1_weighted_average_approach\n",
    "from apply.apply_direct_attribution import apply_direct_attribution_filter\n",
    "from apply.apply_forest_and_finance import apply_forest_and_finance\n",
    "from apply.apply_number_of_pairs import apply_number_of_pairs\n",
    "from apply.apply_sectoral_filter_nace import apply_sectoral_filters_nace\n",
    "from apply.apply_supply_chain_filter import apply_supply_chain_filter"
   ]
  },
  {
   "cell_type": "markdown",
   "metadata": {},
   "source": []
  },
  {
   "cell_type": "markdown",
   "metadata": {},
   "source": [
    "Loading the preliminary codes of the python file"
   ]
  },
  {
   "cell_type": "code",
   "execution_count": 2,
   "metadata": {},
   "outputs": [],
   "source": [
    "# Import functions from other scripts\n",
    "from filepaths import PATH_TO_PORTFOLIO_DATA, PATH_TO_COMPANY_SPECIFIC_ASSET_LEVEL_DATA, PATH_TO_OUTPUT_FOLDER, \\\n",
    "    PATH_TO_INPUT_FOLDER"
   ]
  },
  {
   "cell_type": "code",
   "execution_count": 3,
   "metadata": {},
   "outputs": [],
   "source": [
    "from generate.generate_combine_asset_data import combine_asset_datasets\n",
    "from prep.prep_asset_level_merge import merge_asset_level_to_portfolio_companies\n",
    "from prep.prep_weighted_country_sector_pairs import prep_weighted_country_sector_pairs"
   ]
  },
  {
   "cell_type": "code",
   "execution_count": 5,
   "metadata": {},
   "outputs": [],
   "source": [
    "from user_input import (\n",
    "    # GENERAL SETTINGS\n",
    "    exclude_financial_institutions,\n",
    "    perform_full_analysis,\n",
    "    bias_towards_existing_data,\n",
    "    bias_towards_missing_data,\n",
    "    equal_information_importance,\n",
    "    climate_and_company_information_importance,\n",
    "    specific_information_importance,\n",
    "    importance_revenue_info,\n",
    "    importance_hierarchy_info,\n",
    "    importance_asset_info,\n",
    "    importance_headquarter_info,\n",
    "    # EXECUTE DT1\n",
    "    use_io_model_score,\n",
    "    use_trase_flag,\n",
    "    use_flag_direct,\n",
    "    use_flag_indirect,\n",
    "    use_flag_forest500,\n",
    "    recent_controversies_cutoffs,  # if true, absolute cutoffs are used\n",
    "    historical_controversies_cutoffs,  # suggest to keep this false\n",
    "\n",
    "    # EXECUTE BUCKETING\n",
    "    flag_direct_threshold_high,\n",
    "    flag_direct_threshold_medium,\n",
    "    flag_indirect_threshold_high,\n",
    "    flag_indirect_threshold_medium,\n",
    "    IO_threshold_high,\n",
    "    IO_threshold_medium,\n",
    "    recent_controversies_threshold_high,\n",
    "    recent_controversies_threshold_medium,\n",
    "    historical_controversies_threshold_high,\n",
    "    historical_controversies_threshold_medium,\n",
    "    cutoff_direct_attribution,\n",
    "    subsidiary_data_exists,\n",
    "    hotspot_assets_threshold,\n",
    "    hotspot_subsidiaries_threshold,\n",
    "\n",
    "    # OVERLAY WITH HOTSPOTS\n",
    "    DISTANCE_THRESHOLD_ASSETS\n",
    ")"
   ]
  },
  {
   "cell_type": "code",
   "execution_count": 6,
   "metadata": {},
   "outputs": [],
   "source": [
    "from utils import clean_df_portfolio\n",
    "\n",
    "# from apply.apply_sectoral_filter_gics import apply_sectoral_filters_gics # not yet incorporated\n",
    "\n",
    "### ---------------------------------------------------###\n",
    "### 0) CORE DATA INPUT & SET PARAMETERS                ###\n",
    "### ---------------------------------------------------###\n",
    "\n"
   ]
  },
  {
   "cell_type": "code",
   "execution_count": 7,
   "metadata": {},
   "outputs": [],
   "source": [
    "\"\"\"\n",
    "0.1: QUALITY CHECK PARAMETERS\n",
    "\"\"\"\n",
    "# Define lists of variables to check\n",
    "boolean_variables = [\n",
    "    exclude_financial_institutions, perform_full_analysis, bias_towards_existing_data,\n",
    "    equal_information_importance, climate_and_company_information_importance, specific_information_importance,\n",
    "    use_io_model_score, use_trase_flag, use_flag_direct, use_flag_indirect, use_flag_forest500,\n",
    "    recent_controversies_cutoffs, historical_controversies_cutoffs\n",
    "]\n",
    "\n",
    "numerical_variables = [\n",
    "    flag_direct_threshold_high, flag_direct_threshold_medium, flag_indirect_threshold_high,\n",
    "    flag_indirect_threshold_medium, cutoff_direct_attribution, IO_threshold_high, IO_threshold_medium,\n",
    "    recent_controversies_threshold_high, recent_controversies_threshold_medium,\n",
    "    historical_controversies_threshold_high, historical_controversies_threshold_medium,\n",
    "    hotspot_assets_threshold, hotspot_subsidiaries_threshold, importance_revenue_info, importance_hierarchy_info,\n",
    "    importance_asset_info, importance_headquarter_info\n",
    "]\n"
   ]
  },
  {
   "cell_type": "code",
   "execution_count": 8,
   "metadata": {},
   "outputs": [],
   "source": [
    "# Perform boolean check\n",
    "if any(not isinstance(variable, bool) for variable in boolean_variables):\n",
    "    raise ValueError(\"All of the user inputs listed above must be boolean values (True or False), please check.\")\n",
    "\n",
    "# Perform numerical check\n",
    "if any(not isinstance(variable, (int, float)) for variable in numerical_variables):\n",
    "    raise ValueError(\"All of the user inputs listed above must be numerical values (integers or floats), please check.\")\n",
    "\n",
    "# Perform bias check\n",
    "if bias_towards_existing_data == bias_towards_missing_data:\n",
    "    raise ValueError('Please check your chosen bias and decide for one of them')\n",
    "\n",
    "# Perform weighting check\n",
    "if sum([\n",
    "    equal_information_importance,\n",
    "    climate_and_company_information_importance,\n",
    "    specific_information_importance\n",
    "]) >= 2:\n",
    "    raise ValueError(\"Two or more weightings are set to True.\")"
   ]
  },
  {
   "cell_type": "markdown",
   "metadata": {},
   "source": [
    "Done till 0.1 and now we start with 0.2 ..."
   ]
  },
  {
   "cell_type": "code",
   "execution_count": 9,
   "metadata": {},
   "outputs": [],
   "source": [
    "\"\"\"\n",
    "0.2: Delete interim files that were stored\n",
    "\"\"\"\n",
    "\n",
    "# If perform_full_analysis is set to True, delete the output folder and create a new one\n",
    "\n",
    "if perform_full_analysis:\n",
    "    shutil.rmtree(PATH_TO_OUTPUT_FOLDER, ignore_errors=True)\n",
    "    PATH_TO_OUTPUT_FOLDER.mkdir()\n",
    "    Path(PATH_TO_OUTPUT_FOLDER / 'internal_data').mkdir()"
   ]
  }
 ],
 "metadata": {
  "kernelspec": {
   "display_name": "Python 3",
   "language": "python",
   "name": "python3"
  },
  "language_info": {
   "codemirror_mode": {
    "name": "ipython",
    "version": 3
   },
   "file_extension": ".py",
   "mimetype": "text/x-python",
   "name": "python",
   "nbconvert_exporter": "python",
   "pygments_lexer": "ipython3",
   "version": "3.13.0"
  }
 },
 "nbformat": 4,
 "nbformat_minor": 2
}
